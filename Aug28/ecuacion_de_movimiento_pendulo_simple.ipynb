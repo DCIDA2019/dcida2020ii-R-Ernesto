{
 "cells": [
  {
   "attachments": {
    "e63bcdda-85de-45f2-ac3f-e6b1afd168a9.png": {
     "image/png": "[encoded data removed]"
    }
   },
   "cell_type": "markdown",
   "metadata": {},
   "source": [
    "# Ecuación de movimiento del péndulo simple\n",
    "\n",
    "Un péndulo simple consiste de un cuerpo de masa m atado al extremo de una cuerda inextensible de masa despreciable fija en el otro extremo oscilando en un plano.\n",
    "\n",
    "![image.png](attachment:e63bcdda-85de-45f2-ac3f-e6b1afd168a9.png)\n",
    "\n",
    "La ecuación de movimiento es (en el caso en que $\\theta$ es pequeño):\n",
    "\n",
    "$$ \\frac{d^2\\theta}{dt^2} + \\frac{g}{L}\\theta = 0, $$\n",
    "\n",
    "y su solución es:\n",
    "\n",
    "$$ \\theta(t) = \\theta_0\\cos(\\omega t).$$\n",
    "\n",
    "### a)\n",
    "\n",
    "El primer inciso del problema es escribir un código en python para resolver la ecuación de movimiento pero sin usar numpy. Usaré el método numérico de Euler que se puede resumir como:\n",
    "\n",
    "$$ y_{n+1} = y_{n} + mh $$\n",
    "    \n",
    ", donde $m$ es la pendiente estimada y $h$ es el tamaño del paso en cada iteración. Primero tenemos que re-escribir la ecuación de movimiento como un sistema de ecuaciones:\n",
    "\n",
    "$$ \\phi = \\frac{d\\theta}{dt} $$\n",
    "\n",
    "$$ \\frac{d\\phi}{dt}+ \\frac{g}{l}\\theta $$\n",
    "\n",
    "A cada una de\n",
    "  "
   ]
  },
  {
   "cell_type": "code",
   "execution_count": 14,
   "metadata": {},
   "outputs": [
    {
     "data": {
      "text/plain": [
       "1.0993284258530263"
      ]
     },
     "execution_count": 14,
     "metadata": {},
     "output_type": "execute_result"
    }
   ],
   "source": [
    "from math import pi, sqrt, cos\n",
    "\n",
    "g = 9.8 # [m/s**2]\n",
    "l = 0.3   # [m]\n",
    "omega = sqrt(g/l) # frecuencia angular\n",
    "T = 2*pi/omega # period = [1/s]\n",
    "T"
   ]
  },
  {
   "cell_type": "code",
   "execution_count": 15,
   "metadata": {},
   "outputs": [],
   "source": [
    "steps = 1000\n",
    "theta_0 = 8.73e-2 # initial displacement = [rads]\n",
    "Dtheta_t0 = 0.1 # initial angular velocity = [rad/s] # it can be problematic to choose 0 \n",
    "h = T/steps # step size\n",
    "\n",
    "#phi = Dtheta_t\n",
    "#Dphi_t + (g/l)*theta = 0\n",
    "\n",
    "phi = Dtheta_t0 # phi_0\n",
    "theta = theta_0 # initial value\n",
    "\n",
    "file = open(\"solution.csv\",\"w\")\n",
    "\n",
    "for i in range(0,steps):    \n",
    "    t = i*h\n",
    "    phi_old = phi\n",
    "    theta_old = theta\n",
    "    theta = theta_old + h*phi_old\n",
    "    theta_real = theta_0*cos(omega*t) \n",
    "    phi = phi_old + h*(-g/l)*theta_old\n",
    "    file.write(\"%f, %f, %f\\n\"%(t,theta,theta_real))"
   ]
  },
  {
   "cell_type": "code",
   "execution_count": 17,
   "metadata": {},
   "outputs": [
    {
     "data": {
      "text/plain": [
       "[<matplotlib.lines.Line2D at 0x2235c1d9100>]"
      ]
     },
     "execution_count": 17,
     "metadata": {},
     "output_type": "execute_result"
    },
    {
     "data": {
      "image/png": "[encoded data removed]",
      "text/plain": [
       "<Figure size 432x288 with 1 Axes>"
      ]
     },
     "metadata": {
      "needs_background": "light"
     },
     "output_type": "display_data"
    }
   ],
   "source": [
    "from matplotlib import pyplot as plt\n",
    "\n",
    "# nunca he usado lee un archivo directamente, aún lo estoy checando\n",
    "\n",
    "plt.plot(t,theta)\n",
    "plt.plot(t,theta_real)"
   ]
  }
 ],
 "metadata": {
  "kernelspec": {
   "display_name": "Python 3",
   "language": "python",
   "name": "python3"
  },
  "language_info": {
   "codemirror_mode": {
    "name": "ipython",
    "version": 3
   },
   "file_extension": ".py",
   "mimetype": "text/x-python",
   "name": "python",
   "nbconvert_exporter": "python",
   "pygments_lexer": "ipython3",
   "version": "3.8.5"
  }
 },
 "nbformat": 4,
 "nbformat_minor": 4
}
